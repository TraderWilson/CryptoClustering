





# Import required libraries and dependencies
import pandas as pd
import hvplot.pandas
import numpy as np
from pathlib import Path
from sklearn.cluster import KMeans
from sklearn.decomposition import PCA
from sklearn.preprocessing import StandardScaler


# Load the data into a Pandas DataFrame
df_market_data = pd.read_csv(
    Path("Resources/crypto_market_data.csv"),
    index_col = "coin_id")

# Display sample data
df_market_data.head(10)


# Generate summary statistics
df_market_data.describe()


# Plot your data to see what's in your DataFrame
df_market_data.hvplot.line(
    width = 800,
    height = 400,
    rot = 90
)








# Use the `StandardScaler()` module from scikit-learn to normalize the data from the CSV file
scaled_data = StandardScaler().fit_transform(df_market_data)


# Create a DataFrame with the scaled data
df_market_data_scaled = pd.DataFrame(
    scaled_data,
    columns = df_market_data.columns
)

# Copy the crypto names from the original data
df_market_data_scaled["coin_id"] = df_market_data.index

# Set the coinid column as index
df_market_data_scaled = df_market_data_scaled.set_index("coin_id")

# Display sample data
df_market_data_scaled.head()








# Create a list with the number of k-values to try
# Use a range from 1 to 11
# YOUR CODE HERE!

k = list(range(1, 11))


# Create an empy list to store the inertia values
# YOUR CODE HERE!

inertia = []


# Create a for loop to compute the inertia with each possible value of k
# Inside the loop:
# 1. Create a KMeans model using the loop counter for the n_clusters
# 2. Fit the model to the data using `df_market_data_scaled`
# 3. Append the model.inertia_ to the inertia list
# YOUR CODE HERE!

for i in k:
    model = KMeans(n_clusters = i)
    model.fit(df_market_data_scaled)
    inertia.append(model.inertia_)


# Create a dictionary with the data to plot the Elbow curve
# YOUR CODE HERE!

# Create a DataFrame with the data to plot the Elbow curve
# YOUR CODE HERE!

df_elbow = pd.DataFrame({'k': k, 'orig_inertia': inertia})
df_elbow.set_index('k', inplace = True)
df_elbow.head()


# Plot a line chart with all the inertia values computed with 
# the different values of k to visually identify the optimal value for k.
# YOUR CODE HERE!

orig_elbow = df_elbow.hvplot()
orig_elbow











# Initialize the K-Means model using the best value for k
# YOUR CODE HERE!

model_best = KMeans(n_clusters = 4)


# Fit the K-Means model using the scaled data
# YOUR CODE HERE!

model_best.fit(df_market_data_scaled)


# Predict the clusters to group the cryptocurrencies using the scaled data
# YOUR CODE HERE!

# View the resulting array of cluster values.
# YOUR CODE HERE!

predict = model_best.predict(df_market_data_scaled)
predict


# Create a copy of the DataFrame
# YOUR CODE HERE!

df_best = df_market_data_scaled.copy()


# Add a new column to the DataFrame with the predicted clusters
# YOUR CODE HERE!

# Display sample data
# YOUR CODE HERE!

df_best['cluster'] = predict
df_best.head()


# Create a scatter plot using hvPlot by setting 
# `x="price_change_percentage_24h"` and `y="price_change_percentage_7d"`. 
# Color the graph points with the labels found using K-Means and 
# add the crypto name in the `hover_cols` parameter to identify 
# the cryptocurrency represented by each data point.
# YOUR CODE HERE!

orig_cluster = df_best.hvplot.scatter(x = "price_change_percentage_24h", y = "price_change_percentage_7d", by = 'cluster')
orig_cluster








# Create a PCA model instance and set `n_components=3`.
# YOUR CODE HERE!
pca = PCA(n_components = 3)


# Use the PCA model with `fit_transform` to reduce to 
# three principal components.
# YOUR CODE HERE!

crypto_pca = pca.fit_transform(df_market_data_scaled)

# View the first five rows of the DataFrame. 
# YOUR CODE HERE!

crypto_pca[:5]


# Retrieve the explained variance to determine how much information 
# can be attributed to each principal component.
# YOUR CODE HERE!

pca.explained_variance_ratio_





# Create a new DataFrame with the PCA data.
# Note: The code for this step is provided for you

# Creating a DataFrame with the PCA data
# YOUR CODE HERE!

# Copy the crypto names from the original data
# YOUR CODE HERE!

# Set the coinid column as index
# YOUR CODE HERE!

# Display sample data
# YOUR CODE HERE!

crpyto_pca_df = pd.DataFrame(crypto_pca, columns = ['PCA1', 'PCA2', 'PCA3'], index = df_market_data_scaled.index)
crpyto_pca_df.head()








# Create a list with the number of k-values to try
# Use a range from 1 to 11
# YOUR CODE HERE!

k = list(range(1, 11))


# Create an empy list to store the inertia values
# YOUR CODE HERE!

inertia = []


# Create a for loop to compute the inertia with each possible value of k
# Inside the loop:
# 1. Create a KMeans model using the loop counter for the n_clusters
# 2. Fit the model to the data using `df_market_data_pca`
# 3. Append the model.inertia_ to the inertia list
# YOUR CODE HERE!

for i in k:
    model = KMeans(n_clusters = i)
    model.fit(crpyto_pca_df)
    inertia.append(model.inertia_)


# Create a dictionary with the data to plot the Elbow curve
# YOUR CODE HERE!

# Create a DataFrame with the data to plot the Elbow curve
# YOUR CODE HERE!

df_pca_elbow = pd.DataFrame({'k': k, 'pca_inertia': inertia})
df_pca_elbow.set_index('k', inplace = True)
df_pca_elbow.head()


# Plot a line chart with all the inertia values computed with 
# the different values of k to visually identify the optimal value for k.
# YOUR CODE HERE!

pca_elbow = df_pca_elbow.hvplot()
pca_elbow











# Initialize the K-Means model using the best value for k
# YOUR CODE HERE!

pca_best = KMeans(n_clusters = 4)


# Fit the K-Means model using the PCA data
# YOUR CODE HERE!

pca_best.fit(crpyto_pca_df)


# Predict the clusters to group the cryptocurrencies using the PCA data
# YOUR CODE HERE!

pca_pred = pca_best.predict(crpyto_pca_df)

# View the resulting array of cluster values.
# YOUR CODE HERE!

pca_pred


# Create a copy of the DataFrame with the PCA data
# YOUR CODE HERE!

pca_best_df = crpyto_pca_df.copy()

# Add a new column to the DataFrame with the predicted clusters
# YOUR CODE HERE!

pca_best_df['cluster'] = pca_pred

# Display sample data
# YOUR CODE HERE!

pca_best_df.head()


# Create a scatter plot using hvPlot by setting 
# `x="PC2"` and `y="PC3"`. 
# Color the graph points with the labels found using K-Means and 
# add the crypto name in the `hover_cols` parameter to identify 
# the cryptocurrency represented by each data point.
# YOUR CODE HERE!

pca_cluster = pca_best_df.hvplot.scatter(x = 'PCA1', y = 'PCA3', by = 'cluster')
pca_cluster








# Composite plot to contrast the Elbow curves
# YOUR CODE HERE!

(orig_elbow + pca_elbow).cols(1)


# Compoosite plot to contrast the clusters
# YOUR CODE HERE!

(orig_cluster + pca_cluster).cols(1)





# Get the absolute values of the PCA components
pca_components_abs = np.abs(pca.components_)

# Create a DataFrame to represent the weights of each original feature in the principal components
pca_weights_df = pd.DataFrame(pca_components_abs, columns = df_market_data_scaled.columns, 
                              index = ['PCA1', 'PCA2','PCA3'])

# Display the DataFrame showing the weights of each original feature in the principal components
pca_weights_df


# Through the heatmap, we can see that PCA1 is most correlated with the original factor price_change_percentage_24h
# PCA 3 is most correlated with the original factor price_change_percentage_7d
# So the pca_cluster scatter plot can compare with the original scatter within some extent

pca_weights_df.hvplot.heatmap(xlabel = 'Features', ylabel = 'Principal Components',
                              title = 'Weights of Original Features in Principal Components',
                              cmap = 'coolwarm', rot = 45, width = 700, height = 500
)

